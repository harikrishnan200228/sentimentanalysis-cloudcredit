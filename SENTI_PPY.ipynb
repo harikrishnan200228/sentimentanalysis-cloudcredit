{
 "cells": [
  {
   "cell_type": "code",
   "execution_count": null,
   "id": "3bf882a2",
   "metadata": {},
   "outputs": [],
   "source": [
    "import streamlit as st\n",
    "import joblib\n",
    "\n",
    "# Load the saved model and vectorizer\n",
    "model = joblib.load('sentiment_model.joblib')\n",
    "vectorizer = joblib.load('vectorizer.joblib')\n",
    "\n",
    "st.title(\"Sentiment Analysis App\")\n",
    "\n",
    "user_input = st.text_area(\"Enter text to analyze:\")\n",
    "\n",
    "if user_input:\n",
    "    # Vectorize input text\n",
    "    input_vec = vectorizer.transform([user_input])\n",
    "    \n",
    "    # Predict sentiment\n",
    "    prediction = model.predict(input_vec)[0]\n",
    "    \n",
    "    # Optionally, if you have probabilities:\n",
    "    if hasattr(model, \"predict_proba\"):\n",
    "        proba = model.predict_proba(input_vec)[0]\n",
    "        confidence = max(proba)\n",
    "        st.write(f\"Prediction confidence: {confidence:.2f}\")\n",
    "    \n",
    "    st.write(f\"Predicted Sentiment: **{prediction}**\")\n"
   ]
  }
 ],
 "metadata": {
  "language_info": {
   "name": "python"
  }
 },
 "nbformat": 4,
 "nbformat_minor": 5
}
