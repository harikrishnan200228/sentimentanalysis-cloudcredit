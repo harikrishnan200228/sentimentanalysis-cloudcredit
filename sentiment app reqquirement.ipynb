{
 "cells": [
  {
   "cell_type": "code",
   "execution_count": null,
   "id": "f634a3cb",
   "metadata": {},
   "outputs": [],
   "source": [
    "streamlit\n",
    "scikit-learn\n",
    "joblib\n"
   ]
  }
 ],
 "metadata": {
  "language_info": {
   "name": "python"
  }
 },
 "nbformat": 4,
 "nbformat_minor": 5
}
