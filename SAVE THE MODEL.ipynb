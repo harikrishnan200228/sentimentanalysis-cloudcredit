{
 "cells": [
  {
   "cell_type": "code",
   "execution_count": null,
   "id": "80e7ced9",
   "metadata": {},
   "outputs": [],
   "source": [
    "# Load model and vectorizer\n",
    "model = joblib.load('sentiment_model.joblib')\n",
    "vectorizer = joblib.load('vectorizer.joblib')\n",
    "\n",
    "# Predict\n",
    "sample_text = [\"This product is amazing!\"]\n",
    "X_sample = vectorizer.transform(sample_text)\n",
    "prediction = model.predict(X_sample)\n",
    "print(\"Predicted Sentiment:\", prediction[0])\n"
   ]
  }
 ],
 "metadata": {
  "kernelspec": {
   "display_name": "Python (myenv)",
   "language": "python",
   "name": "myenv"
  },
  "language_info": {
   "codemirror_mode": {
    "name": "ipython",
    "version": 3
   },
   "file_extension": ".py",
   "mimetype": "text/x-python",
   "name": "python",
   "nbconvert_exporter": "python",
   "pygments_lexer": "ipython3",
   "version": "3.13.2"
  }
 },
 "nbformat": 4,
 "nbformat_minor": 5
}
